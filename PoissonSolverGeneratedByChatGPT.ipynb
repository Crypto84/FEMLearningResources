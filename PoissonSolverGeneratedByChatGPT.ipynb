{
 "cells": [
  {
   "cell_type": "markdown",
   "id": "b4e561a4-c5f5-4a50-a631-8b3c36b6672f",
   "metadata": {},
   "source": [
    "# Getting ChatGPT to solve the Poisson Equation using DOLFINx\n",
    "\n",
    "The old girl actually did a pretty good job! It seems like it knew what it was on about, but didn't exactly have the fine details down. Often it is attempting to use modules it hasn't properly imported. Also at times it appears to either be using functions that did not exist, but played a similar role to ones that did. I am referring to `UnitSquareMesh()`, which is similar to `create_unit_square()`,  `DirichletBC()` which is similar to `dirichletbc()` and `PETScKrylovSolver()` which I believe exists but was not used correctly. Also the visualisation code was very wrong. It tried to use matplotlib, which I don't think is the best for this kind of 3d visualisation.\n",
    "It also attempted to find the boundary dofs manually using a `boundary()` function, which may have actually worked, but `DirichletBC` does not accept it and infact, in this case it is much simpler to use `locate_dofs_topological()`. Another change I made was to use the variable name `domain` instead of `mesh`, since it added confusion with the use of `dolfinx.mesh()`. [Here](https://www.diffchecker.com/hVlpvSZc/) is the diff.\n",
    "\n",
    "Interestingly, it attempted to solve the most simple version of Poisson it could think of (wise move). This had $\\text{RHS} = 1$ and a homogeneous Dirichlet boundary condition. Nice."
   ]
  },
  {
   "cell_type": "code",
   "execution_count": 1,
   "id": "db0c58ba-1216-44ea-b78b-576627a6fd0c",
   "metadata": {},
   "outputs": [
    {
     "ename": "AttributeError",
     "evalue": "module 'dolfinx' has no attribute 'UnitSquareMesh'",
     "output_type": "error",
     "traceback": [
      "\u001b[0;31m---------------------------------------------------------------------------\u001b[0m",
      "\u001b[0;31mAttributeError\u001b[0m                            Traceback (most recent call last)",
      "Cell \u001b[0;32mIn [1], line 7\u001b[0m\n\u001b[1;32m      4\u001b[0m \u001b[38;5;28;01mimport\u001b[39;00m \u001b[38;5;21;01mnumpy\u001b[39;00m \u001b[38;5;28;01mas\u001b[39;00m \u001b[38;5;21;01mnp\u001b[39;00m\n\u001b[1;32m      6\u001b[0m \u001b[38;5;66;03m# Define the domain and mesh\u001b[39;00m\n\u001b[0;32m----> 7\u001b[0m mesh \u001b[38;5;241m=\u001b[39m \u001b[43mdolfinx\u001b[49m\u001b[38;5;241;43m.\u001b[39;49m\u001b[43mUnitSquareMesh\u001b[49m(MPI\u001b[38;5;241m.\u001b[39mCOMM_WORLD, \u001b[38;5;241m10\u001b[39m, \u001b[38;5;241m10\u001b[39m)\n\u001b[1;32m      9\u001b[0m \u001b[38;5;66;03m# Define the function space\u001b[39;00m\n\u001b[1;32m     10\u001b[0m V \u001b[38;5;241m=\u001b[39m dolfinx\u001b[38;5;241m.\u001b[39mFunctionSpace(mesh, (\u001b[38;5;124m\"\u001b[39m\u001b[38;5;124mCG\u001b[39m\u001b[38;5;124m\"\u001b[39m, \u001b[38;5;241m1\u001b[39m))\n",
      "\u001b[0;31mAttributeError\u001b[0m: module 'dolfinx' has no attribute 'UnitSquareMesh'"
     ]
    }
   ],
   "source": [
    "#ChatGPT's original code\n",
    "import dolfinx\n",
    "import ufl\n",
    "import numpy as np\n",
    "\n",
    "# Define the domain and mesh\n",
    "mesh = dolfinx.UnitSquareMesh(MPI.COMM_WORLD, 10, 10)\n",
    "\n",
    "# Define the function space\n",
    "V = dolfinx.FunctionSpace(mesh, (\"CG\", 1))\n",
    "\n",
    "# Define the trial and test functions\n",
    "u = ufl.TrialFunction(V)\n",
    "v = ufl.TestFunction(V)\n",
    "\n",
    "# Define the right-hand side function\n",
    "f = dolfinx.Constant(mesh, 1.0)\n",
    "\n",
    "# Define the variational problem\n",
    "a = ufl.dot(ufl.grad(u), ufl.grad(v)) * ufl.dx\n",
    "L = f * v * ufl.dx\n",
    "\n",
    "# Define the Dirichlet boundary condition\n",
    "def boundary(x):\n",
    "    return np.isclose(x[0], 0.0) or np.isclose(x[0], 1.0) or np.isclose(x[1], 0.0) or np.isclose(x[1], 1.0)\n",
    "\n",
    "bc = dolfinx.DirichletBC(V, dolfinx.Constant(mesh, 0.0), boundary)\n",
    "\n",
    "# Solve the variational problem\n",
    "u = dolfinx.Function(V)\n",
    "problem = dolfinx.fem.LinearProblem(a, L, u, bcs=[bc])\n",
    "solver = dolfinx.fem.PETScKrylovSolver(MPI.COMM_WORLD, \"cg\")\n",
    "solver.solve(problem)\n",
    "\n",
    "# Plot the solution\n",
    "import matplotlib.pyplot as plt\n",
    "from dolfinx.plot import plot\n",
    "\n",
    "fig, ax = plt.subplots()\n",
    "plot(u, ax=ax)\n",
    "ax.set_title(\"Solution\")\n",
    "plt.show()\n"
   ]
  },
  {
   "cell_type": "code",
   "execution_count": 2,
   "id": "350dfc6d-a29d-4038-827c-a96521b6def4",
   "metadata": {},
   "outputs": [],
   "source": [
    "# Doesn't work straight away but after some modification"
   ]
  },
  {
   "cell_type": "code",
   "execution_count": 3,
   "id": "775a1b4d-a5d2-48be-a2bb-2d9dcb0cf7b5",
   "metadata": {},
   "outputs": [
    {
     "name": "stderr",
     "output_type": "stream",
     "text": [
      "\u001b[0m\u001b[2m2023-03-13 13:31:44.280 (   3.492s) [        50F83000]    vtkExtractEdges.cxx:435   INFO| \u001b[0mExecuting edge extractor: points are renumbered\u001b[0m\n",
      "\u001b[0m\u001b[2m2023-03-13 13:31:44.285 (   3.497s) [        50F83000]    vtkExtractEdges.cxx:551   INFO| \u001b[0mCreated 320 edges\u001b[0m\n"
     ]
    },
    {
     "data": {
      "application/vnd.jupyter.widget-view+json": {
       "model_id": "f4e6fb7556e94e52888b40b7e43d63f9",
       "version_major": 2,
       "version_minor": 0
      },
      "text/plain": [
       "Renderer(camera=PerspectiveCamera(aspect=1.3333333333333333, children=(DirectionalLight(intensity=0.25, positi…"
      ]
     },
     "metadata": {},
     "output_type": "display_data"
    },
    {
     "data": {
      "application/vnd.jupyter.widget-view+json": {
       "model_id": "d07290008e5140149c0f39d546859610",
       "version_major": 2,
       "version_minor": 0
      },
      "text/plain": [
       "AppLayout(children=(VBox(children=(HTML(value='<h3>Our second visualisation</h3>'), Dropdown(description='Colo…"
      ]
     },
     "metadata": {},
     "output_type": "display_data"
    }
   ],
   "source": [
    "import dolfinx\n",
    "import mpi4py\n",
    "from petsc4py import PETSc\n",
    "import ufl\n",
    "import numpy as np\n",
    "\n",
    "# Define the domain and mesh\n",
    "domain = dolfinx.mesh.create_unit_square(mpi4py.MPI.COMM_WORLD, 10, 10)\n",
    "\n",
    "# Define the function space\n",
    "V = dolfinx.fem.FunctionSpace(domain, (\"CG\", 1))\n",
    "\n",
    "# Define the trial and test functions\n",
    "u = ufl.TrialFunction(V)\n",
    "v = ufl.TestFunction(V)\n",
    "\n",
    "# Define the right-hand side function\n",
    "f = dolfinx.fem.Constant(domain, 1.0)\n",
    "\n",
    "# Define the variational problem\n",
    "a = ufl.dot(ufl.grad(u), ufl.grad(v)) * ufl.dx\n",
    "L = f * v * ufl.dx\n",
    "\n",
    "# Define the Dirichlet boundary condition\n",
    "fdim = domain.topology.dim - 1\n",
    "boundary_facets = dolfinx.mesh.locate_entities_boundary(domain, fdim, lambda x: np.full(x.shape[1], True, dtype=bool))\n",
    "bc = dolfinx.fem.dirichletbc(PETSc.ScalarType(0), dolfinx.fem.locate_dofs_topological(V, fdim, boundary_facets), V)\n",
    "\n",
    "# Solve the variational problem\n",
    "problem = dolfinx.fem.petsc.LinearProblem(a, L, bcs=[bc], petsc_options={\"ksp_type\": \"preonly\", \"pc_type\": \"lu\"})\n",
    "uh = problem.solve()\n",
    "\n",
    "# Plot the solution\n",
    "from dolfinx import plot\n",
    "import pyvista\n",
    "pyvista.set_jupyter_backend(\"pythreejs\")   \n",
    "u_topology, u_cell_types, u_geometry = plot.create_vtk_mesh(V)\n",
    "u_grid = pyvista.UnstructuredGrid(u_topology, u_cell_types, u_geometry)\n",
    "u_grid.point_data[\"Our solution\"] = uh.x.array.real\n",
    "u_grid.set_active_scalars(\"Our solution\")\n",
    "u_plotter = pyvista.Plotter()\n",
    "u_plotter.add_mesh(u_grid, show_edges=True, show_scalar_bar = True)\n",
    "u_plotter.view_xy()\n",
    "if not pyvista.OFF_SCREEN:\n",
    "    u_plotter.show()\n",
    "    \n",
    "u_grid2 = pyvista.UnstructuredGrid(u_topology, u_cell_types, u_geometry)\n",
    "u_grid2.point_data[\"Our second visualisation\"] = uh.x.array.real\n",
    "u_grid2.set_active_scalars(\"Our second visualisation\")\n",
    "warped = u_grid2.warp_by_scalar()\n",
    "plotter2 = pyvista.Plotter()\n",
    "plotter2.add_mesh(warped, show_edges=True, show_scalar_bar=True)\n",
    "if not pyvista.OFF_SCREEN:\n",
    "    plotter2.show(jupyter_backend=\"ipygany\")"
   ]
  },
  {
   "cell_type": "code",
   "execution_count": null,
   "id": "6cd07331-6fe9-475c-b63d-17429dec3219",
   "metadata": {},
   "outputs": [],
   "source": []
  }
 ],
 "metadata": {
  "kernelspec": {
   "display_name": "Python 3 (ipykernel)",
   "language": "python",
   "name": "python3"
  },
  "language_info": {
   "codemirror_mode": {
    "name": "ipython",
    "version": 3
   },
   "file_extension": ".py",
   "mimetype": "text/x-python",
   "name": "python",
   "nbconvert_exporter": "python",
   "pygments_lexer": "ipython3",
   "version": "3.10.4"
  }
 },
 "nbformat": 4,
 "nbformat_minor": 5
}
